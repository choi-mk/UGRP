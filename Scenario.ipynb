{
 "cells": [
  {
   "cell_type": "code",
   "execution_count": 1,
   "metadata": {
    "id": "60cJPnYFKhHF"
   },
   "outputs": [],
   "source": [
    "import pandas as pd\n",
    "\n",
    "\n",
    "def decide_phase1(row):\n",
    "    if row.get('No Turn On Red', None) == 'Yes':\n",
    "        if  (row['우회전신호등'] == 'red' or row['우회전신호등'] == 'yellow') or (row['우회전신호등'] == 'No' and (row['신호등1'] == 'red' or row['신호등1'] == 'yellow' )):\n",
    "            return 'stop'\n",
    "        elif row['보행자1'] == 'Yes':\n",
    "            return 'wait for ped'\n",
    "        return 'slowly go'\n",
    "\n",
    "    elif row.get('Right On Red After Stop', None) == 'Yes':\n",
    "\n",
    "        if  (row['우회전신호등'] == 'red' or row['우회전신호등'] == 'yellow') or (row['우회전신호등'] == 'No' and (row['신호등1'] == 'red' or row['신호등1']=='yellow')):\n",
    "            return 'stop and go'\n",
    "        elif row['보행자1'] == 'Yes':\n",
    "            return 'wait for ped'\n",
    "        return 'slowly go'\n",
    "\n",
    "    elif row['우회전신호등'] != 'No':\n",
    "        if (row['우회전신호등'] == 'red' or row['우회전신호등'] == 'yellow') or (row['우회전신호등'] == 'No' and (row['신호등1'] == 'red' or row['신호등1']=='yellow')):\n",
    "            return 'stop'\n",
    "        elif row['보행자1'] == 'Yes':\n",
    "            return 'wait for ped'\n",
    "        return 'slowly go'\n",
    "\n",
    "    elif row['신호등1'] == 'red':\n",
    "        return 'stop'\n",
    "\n",
    "\n",
    "    return 'slowly go'\n",
    "\n",
    "\n",
    "def decide_phase2(row, phase1):\n",
    "    if phase1 in ['stop']:\n",
    "        return '-'\n",
    "\n",
    "    if row['차량'] == 'Yes' or row['보행자2'] == 'Yes':\n",
    "        return 'wait for ped or car'\n",
    "\n",
    "    return 'right turn'\n",
    "\n",
    "\n",
    "def newyork_action(row):\n",
    "    phase1 = decide_phase1(row)\n",
    "    phase2 = decide_phase2(row, phase1)\n",
    "    return pd.Series([phase1, phase2], index=['phase1', 'phase2'])\n",
    "\n",
    "\n",
    "def korea_action(row):\n",
    "    phase1, phase2 =\"slowly go\", \"right turn\"\n",
    "\n",
    "    no_right_turn_on_red_exists = row.get('No Turn On Red', None) == 'Yes'\n",
    "\n",
    "    if row[\"신호등1\"] == \"red\":\n",
    "        phase1 = \"stop and go\"\n",
    "    if row[\"신호등1\"] == \"yellow\" and (not no_right_turn_on_red_exists or row[\"No Turn On Red\"] == \"No\"):\n",
    "        phase1 = \"stop and go\"\n",
    "    if no_right_turn_on_red_exists and row[\"No Turn On Red\"] == \"Yes\" and (row[\"신호등1\"] == \"red\" or row[\"신호등1\"]== 'yellow' ):\n",
    "        phase1= \"stop\"\n",
    "\n",
    "    if row[\"우회전신호등\"]==\"green\":\n",
    "        phase1=\"slowly go\"\n",
    "    elif row[\"우회전신호등\"] == \"red\" or row['우회전신호등'] == 'yellow':\n",
    "        phase1= \"stop\"\n",
    "\n",
    "    if row[\"보행자1\"] == \"Yes\" and phase1!=\"stop\":\n",
    "        phase1 = \"wait for ped\"\n",
    "\n",
    "    if phase1==\"stop\":\n",
    "        phase2=\"-\"\n",
    "    else:\n",
    "        if row[\"보행자2\"] == \"Yes\" or row[\"차량\"] == \"Yes\":\n",
    "            phase2 = \"wait for ped or car\"\n",
    "\n",
    "\n",
    "\n",
    "\n",
    "\n",
    "    return pd.Series([phase1, phase2], index=['phase1', 'phase2'])"
   ]
  },
  {
   "cell_type": "code",
   "execution_count": null,
   "metadata": {},
   "outputs": [],
   "source": []
  },
  {
   "cell_type": "code",
   "execution_count": 4,
   "metadata": {
    "id": "KQ4xxutddlmS"
   },
   "outputs": [],
   "source": [
    "import pandas as pd\n",
    "import itertools\n",
    "\n",
    "\n",
    "A = pd.read_excel('New York.xlsx')\n",
    "B = pd.read_excel('Korea.xlsx')\n",
    "\n",
    "common_component = list(set(A.columns) & set(B.columns))\n",
    "common_component\n",
    "\n",
    "A_only_columns = list(set(A.columns) - set(B.columns))\n",
    "B_only_columns = list(set(B.columns) - set(A.columns))"
   ]
  },
  {
   "cell_type": "code",
   "execution_count": null,
   "metadata": {},
   "outputs": [],
   "source": []
  },
  {
   "cell_type": "code",
   "execution_count": 8,
   "metadata": {
    "id": "7aIuLKbwdp97"
   },
   "outputs": [
    {
     "name": "stdout",
     "output_type": "stream",
     "text": [
      "10\n",
      "0\n"
     ]
    }
   ],
   "source": [
    "result_df = pd.DataFrame(columns=B.columns.tolist() + ['phase1', 'phase2'])\n",
    "\n",
    "\n",
    "#A에도 있는 행인지 확인하기 위한 함수\n",
    "def check_row_exists_in(row_B, compare):\n",
    "    temp_df = pd.DataFrame([row_B])\n",
    "    for col in compare:\n",
    "        temp_df[col] = 'No'\n",
    "    merged = A.merge(temp_df, how='inner')\n",
    "    return not merged.empty\n",
    "\n",
    "\n",
    "#common component state가 동일하고\n",
    "#A_only component, B_only component가 No인 case 중\n",
    "#A와 B의 action이 다른 case\n",
    "same_state = 0\n",
    "simillar_state = 0\n",
    "\n",
    "for _, row in B.iterrows():\n",
    "    if check_row_exists_in(row, A_only_columns):\n",
    "      action_korea = korea_action(row)\n",
    "      korea_row = pd.concat([row, action_korea])\n",
    "      #korea_result_df = pd.concat([korea_result_df, korea_row.to_frame().T], ignore_index=True)\n",
    "      action_newyork = newyork_action(row)\n",
    "      if not action_korea.equals(action_newyork):\n",
    "        new_row = pd.concat([row, action_korea])\n",
    "        same_state +=1\n",
    "        result_df = pd.concat([result_df, new_row.to_frame().T], ignore_index=True)\n",
    "\n",
    "#B_only componenet가 No가 아닌 모든 case 중\n",
    "#state가 동일하고 B_only component가 동일한 case와 action이 다른 case\n",
    "\n",
    "result = pd.DataFrame(columns=B.columns.tolist() + ['phase1', 'phase2'])\n",
    "\n",
    "for i in range(len(B_only_columns)):\n",
    "  C=B.copy()\n",
    "  C=C[C[B_only_columns[i]]!=\"No\"]\n",
    "  for _, row in C.iterrows():\n",
    "    B_row=row.copy()\n",
    "    B_row[B_only_columns[i]]=\"No\"\n",
    "    action1=korea_action(row)\n",
    "    action2=korea_action(B_row)\n",
    "    if not action1.equals(action2):\n",
    "      new_row=pd.concat([row, action1])\n",
    "\n",
    "      if not result.isin([new_row]).all(axis=1).any():\n",
    "        simillar_state += 1\n",
    "        result = pd.concat([result, new_row.to_frame().T], ignore_index=True)\n",
    "\n",
    "print(same_state)\n",
    "print(simillar_state)\n",
    "answer=pd.concat([result_df, result]).drop_duplicates()\n",
    "#korea_all =pd.concat([korea_result_df, result]).drop_duplicates()\n",
    "answer.to_csv('Result_Korea.csv', index=False)"
   ]
  },
  {
   "cell_type": "code",
   "execution_count": null,
   "metadata": {},
   "outputs": [],
   "source": []
  },
  {
   "cell_type": "markdown",
   "metadata": {
    "id": "u2CS9T0qfEfg"
   },
   "source": []
  }
 ],
 "metadata": {
  "colab": {
   "provenance": []
  },
  "kernelspec": {
   "display_name": "Python 3 (ipykernel)",
   "language": "python",
   "name": "python3"
  },
  "language_info": {
   "codemirror_mode": {
    "name": "ipython",
    "version": 3
   },
   "file_extension": ".py",
   "mimetype": "text/x-python",
   "name": "python",
   "nbconvert_exporter": "python",
   "pygments_lexer": "ipython3",
   "version": "3.9.7"
  }
 },
 "nbformat": 4,
 "nbformat_minor": 4
}
